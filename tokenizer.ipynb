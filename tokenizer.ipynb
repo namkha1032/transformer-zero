{
 "cells": [
  {
   "cell_type": "markdown",
   "id": "0e864d78",
   "metadata": {},
   "source": [
    "Why we don't use native Unicode tokenization:\n",
    "- The vocab will be long\n",
    "- Unicode keeps changing\n",
    "==> We need **encoding**\n",
    "\n",
    "If we use utf8 naively, we will only be able to use a vocabulary of max length 256"
   ]
  },
  {
   "cell_type": "markdown",
   "id": "1f715aea",
   "metadata": {},
   "source": [
    "# Algorithm"
   ]
  },
  {
   "cell_type": "markdown",
   "id": "96ac6e39",
   "metadata": {},
   "source": [
    "Suppose we have a string. This is a sequence of length 11 with vocab size of 4\n",
    "\n",
    "```sh\n",
    "aaabdaaabac\n",
    "```\n",
    "\n",
    "\n",
    "We find the pair of tokens that occurs the most frequently. Then, we replace that pair of tokens with a new token, then append that pair of token to our vocab.\n",
    "\n",
    "This is a sequence of length 9 with vocab size of 6\n",
    "```sh\n",
    "ZabdZabac\n",
    "Z=aa\n",
    "```\n",
    "\n",
    "we repeat this process until no pairs of bytes that occur more than once.\n",
    "\n",
    "Finally, we have a sequence of 5 token with vocab size of 7\n",
    "\n",
    "```sh\n",
    "XdXac\n",
    "X=ZY=aaab\n",
    "Y=ab\n",
    "Z=aa\n",
    "```"
   ]
  },
  {
   "cell_type": "markdown",
   "id": "ea284023",
   "metadata": {},
   "source": [
    "## When will we stop?\n",
    "That's the hyperparameter\n",
    "- The more steps we take, the **larger** will be our **vocabulary** and the **shorter** will be our **sequence**\n",
    "\n",
    "--> Some sweet spot that usually works the best in practice "
   ]
  },
  {
   "cell_type": "markdown",
   "id": "d3cfbb87",
   "metadata": {},
   "source": [
    "# Tiktoken"
   ]
  },
  {
   "cell_type": "code",
   "execution_count": null,
   "id": "6ca0a109",
   "metadata": {},
   "outputs": [
    {
     "name": "stdout",
     "output_type": "stream",
     "text": [
      "[220, 220, 220, 299, 321, 479, 3099, 1207, 1291, 72, 220, 220, 220, 220]\n",
      "[262, 16854, 597, 4317, 2219, 490, 2192, 257]\n"
     ]
    }
   ],
   "source": [
    "import tiktoken\n",
    "\n",
    "enc1 = tiktoken.get_encoding(\"gpt2\")\n",
    "print(enc1.encode(\"    nam kha dep trai    \"))\n",
    "\n",
    "\n",
    "enc2 = tiktoken.get_encoding(\"cl100k_base\")\n",
    "print(enc2.encode(\"    nam kha dep trai    \"))"
   ]
  },
  {
   "cell_type": "code",
   "execution_count": null,
   "id": "a7d1eccb",
   "metadata": {},
   "outputs": [],
   "source": []
  }
 ],
 "metadata": {
  "kernelspec": {
   "display_name": "namkha_env",
   "language": "python",
   "name": "python3"
  },
  "language_info": {
   "codemirror_mode": {
    "name": "ipython",
    "version": 3
   },
   "file_extension": ".py",
   "mimetype": "text/x-python",
   "name": "python",
   "nbconvert_exporter": "python",
   "pygments_lexer": "ipython3",
   "version": "3.10.16"
  }
 },
 "nbformat": 4,
 "nbformat_minor": 5
}
